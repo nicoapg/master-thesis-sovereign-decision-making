{
 "cells": [
  {
   "cell_type": "code",
   "execution_count": null,
   "id": "852dcf01",
   "metadata": {},
   "outputs": [],
   "source": []
  },
  {
   "cell_type": "code",
   "execution_count": null,
   "id": "b0025a6b",
   "metadata": {},
   "outputs": [],
   "source": [
    "\n",
    "\n",
    "import os\n",
    "os.chdir(\"..\")\n",
    "\n",
    "\n",
    "# # *experiment001*"
   ]
  },
  {
   "cell_type": "code",
   "execution_count": null,
   "id": "81329c95",
   "metadata": {},
   "outputs": [],
   "source": [
    "\n",
    "\n",
    "get_ipython().run_line_magic('run', 'main_processing.py --dataset experiment001')\n",
    "get_ipython().run_line_magic('run', 'main_benchmarking.py --dataset_name experiment001 --show_figs')\n",
    "\n",
    "\n",
    "# # *experiment002*"
   ]
  },
  {
   "cell_type": "code",
   "execution_count": null,
   "id": "2e3352c3",
   "metadata": {
    "lines_to_next_cell": 2
   },
   "outputs": [],
   "source": [
    "\n",
    "\n",
    "get_ipython().run_line_magic('run', 'main_processing.py --dataset experiment002')\n",
    "get_ipython().run_line_magic('run', 'main_benchmarking.py --dataset_name experiment002 --show_figs')"
   ]
  },
  {
   "cell_type": "code",
   "execution_count": null,
   "id": "6f0cb905",
   "metadata": {
    "lines_to_next_cell": 2
   },
   "outputs": [],
   "source": [
    "\n",
    "\n"
   ]
  }
 ],
 "metadata": {
  "jupytext": {
   "cell_metadata_filter": "-all",
   "encoding": "# coding: utf-8",
   "executable": "/usr/bin/env python",
   "main_language": "python",
   "notebook_metadata_filter": "-all"
  }
 },
 "nbformat": 4,
 "nbformat_minor": 5
}
