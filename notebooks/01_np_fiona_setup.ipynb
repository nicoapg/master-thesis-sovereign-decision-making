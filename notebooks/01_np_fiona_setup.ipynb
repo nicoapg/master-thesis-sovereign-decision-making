{
 "cells": [
  {
   "cell_type": "markdown",
   "id": "761be38a-1d7d-4cab-b599-d1d0bd0d3979",
   "metadata": {},
   "source": [
    "### Here we want to setup the first steps to use the data analysis from sovereignGMLP"
   ]
  },
  {
   "cell_type": "code",
   "execution_count": 1,
   "id": "95580913-a66a-4bba-a80a-f1490a3036fb",
   "metadata": {},
   "outputs": [],
   "source": []
  }
 ],
 "metadata": {
  "kernelspec": {
   "display_name": "python master fiona",
   "language": "python",
   "name": "python-env-master-fiona"
  },
  "language_info": {
   "codemirror_mode": {
    "name": "ipython",
    "version": 3
   },
   "file_extension": ".py",
   "mimetype": "text/x-python",
   "name": "python",
   "nbconvert_exporter": "python",
   "pygments_lexer": "ipython3",
   "version": "3.11.4"
  }
 },
 "nbformat": 4,
 "nbformat_minor": 5
}
